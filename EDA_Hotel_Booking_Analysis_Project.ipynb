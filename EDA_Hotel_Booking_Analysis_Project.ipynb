{
  "nbformat": 4,
  "nbformat_minor": 0,
  "metadata": {
    "colab": {
      "private_outputs": true,
      "provenance": [],
      "collapsed_sections": [
        "yQaldy8SH6Dl",
        "PH-0ReGfmX4f",
        "448CDAPjqfQr",
        "t6dVpIINYklI",
        "ijmpgYnKYklI",
        "-JiQyfWJYklI",
        "fge-S5ZAYoAp",
        "RoGjAbkUYoAp",
        "iky9q4vBYrdO",
        "QHF8YVU7Yuh3",
        "GwzvFGzlYuh3",
        "qYpmQ266Yuh3",
        "bbFf2-_FphqN",
        "_ouA3fa0phqN",
        "Seke61FWphqN",
        "t27r6nlMphqO",
        "r2jJGEOYphqO",
        "b0JNsNcRphqO",
        "jj7wYXLtphqO",
        "eZrbJ2SmphqO",
        "rFu4xreNphqO",
        "gCFgpxoyphqP",
        "EXh0U9oCveiU",
        "gIfDvo9L0UH2"
      ],
      "include_colab_link": true
    },
    "kernelspec": {
      "name": "python3",
      "display_name": "Python 3"
    },
    "language_info": {
      "name": "python"
    }
  },
  "cells": [
    {
      "cell_type": "markdown",
      "metadata": {
        "id": "view-in-github",
        "colab_type": "text"
      },
      "source": [
        "<a href=\"https://colab.research.google.com/github/YashPareek1/Hotel-Management-EDA/blob/master/EDA_Hotel_Booking_Analysis_Project.ipynb\" target=\"_parent\"><img src=\"https://colab.research.google.com/assets/colab-badge.svg\" alt=\"Open In Colab\"/></a>"
      ]
    },
    {
      "cell_type": "markdown",
      "source": [
        "# **Project Name**    -    **Hotel Booking Analysis**\n",
        "\n"
      ],
      "metadata": {
        "id": "vncDsAP0Gaoa"
      }
    },
    {
      "cell_type": "markdown",
      "source": [
        "##### **Project Type**    - EDA\n",
        "##### **Contribution**    - Individual\n",
        "##### **Team member name** - Yash Pareek"
      ],
      "metadata": {
        "id": "beRrZCGUAJYm"
      }
    },
    {
      "cell_type": "markdown",
      "source": [
        "# **Project Summary -**"
      ],
      "metadata": {
        "id": "FJNUwmbgGyua"
      }
    },
    {
      "cell_type": "markdown",
      "source": [
        "The Hotel Booking Analysis project aims to leverage data analytics to optimize\n",
        "revenue generation and enhance customer satisfaction within the hospitality\n",
        "industry. This comprehensive analysis focuses on understanding booking patterns, customer preferences, and market trends to make informed decisions and improve overall business performance for hotels.\n",
        "\n",
        "Key Objectives:\n",
        "1. Revenue Optimization:\n",
        "   - Identify peak booking seasons and pricing strategies to maximize revenue.\n",
        "   - Analyze historical data to predict future demand and occupancy rates.\n",
        "   - Optimize room pricing based on demand fluctuations and competitor rates.\n",
        "\n",
        "2. Customer Segmentation:\n",
        "   - Segment customers based on demographics, booking behaviors, and preferences.\n",
        "   - Create personalized marketing campaigns and offers to target specific customer segments.\n",
        "   - Enhance guest experience by tailoring services to different customer profiles.\n",
        "\n",
        "3. Forecasting and Demand Management:\n",
        "   - Develop demand forecasting models to ensure optimal resource allocation.\n",
        "   - Implement overbooking strategies to minimize revenue loss due to cancellations and no-shows.\n",
        "   - Fine-tune inventory management to meet varying demand levels.\n",
        "\n",
        "4. Customer Satisfaction:\n",
        "   - Analyze guest reviews and feedback to identify areas for improvement.\n",
        "   - Implement changes in services, amenities, and customer interactions based on feedback.\n",
        "   - Monitor guest satisfaction scores and track improvements over time.\n",
        "\n",
        "5. Competitor Analysis:\n",
        "   - Evaluate the performance of competitors in the local market.\n",
        "   - Benchmark against industry standards and identify areas where the hotel can gain a competitive edge.\n",
        "   - Adjust pricing and marketing strategies in response to competitor actions.\n",
        "\n",
        "6. Marketing and Promotion:\n",
        "   - Utilize data-driven insights to target marketing efforts more effectively.\n",
        "   - Analyze the performance of marketing campaigns and their impact on bookings.\n",
        "   - Allocate marketing budgets to channels that yield the highest ROI.\n",
        "\n",
        "7. Technology Integration:\n",
        "   - Implement data analytics tools and systems to automate data collection and analysis.\n",
        "   - Explore the use of AI and machine learning for predictive analytics.\n",
        "   - Ensure data security and compliance with privacy regulations.\n",
        "\n",
        "Expected Outcomes:\n",
        "1. Increased revenue through optimized pricing and demand management.\n",
        "2. Improved customer satisfaction and loyalty through personalized experiences.\n",
        "3. Enhanced competitiveness in the market.\n",
        "4. Data-driven decision-making for better resource allocation.\n",
        "5. Efficient marketing campaigns leading to a higher return on investment.\n",
        "6. Adaptation to changing market conditions and customer expectations.\n",
        "\n",
        "The Hotel Booking Analysis project will empower hotels to make data-driven decisions, stay ahead of the competition, and provide exceptional experiences to their guests, ultimately leading to improved profitability and sustainable growth."
      ],
      "metadata": {
        "id": "F6v_1wHtG2nS"
      }
    },
    {
      "cell_type": "markdown",
      "source": [
        "# **GitHub Link -**"
      ],
      "metadata": {
        "id": "w6K7xa23Elo4"
      }
    },
    {
      "cell_type": "markdown",
      "source": [
        "Provide your GitHub Link here :- https://github.com/YashPareek1/Hotel-Management-EDA.git"
      ],
      "metadata": {
        "id": "h1o69JH3Eqqn"
      }
    },
    {
      "cell_type": "markdown",
      "source": [
        "# **Problem Statement**\n",
        "The hotel industry faces the challenge of optimizing room bookings, revenue generation, and customer satisfaction in an increasingly competitive market. To address these challenges, a comprehensive hotel booking analysis is required to gain insights into booking patterns, customer preferences, and market dynamics. The problem statement can be broken down into several key aspects:\n",
        "\n",
        "Demand Forecasting: Hotels need to accurately predict future demand for their rooms to optimize pricing, occupancy rates, and resource allocation. The problem is to develop robust demand forecasting models that consider historical booking data, seasonality, special events, and market trends.\n",
        "\n",
        "Customer Segmentation: Not all guests have the same preferences and booking behaviors. The problem is to segment customers based on demographics, booking habits, and preferences to tailor marketing efforts and services to specific customer groups.\n",
        "\n",
        "Inventory Management: Overbooking and underbooking can lead to revenue loss and customer dissatisfaction. The problem is to implement effective inventory management strategies to minimize the impact of cancellations and no-shows while maintaining high occupancy rates.\n",
        "\n",
        "Customer Satisfaction: Guest satisfaction is essential for repeat business and positive reviews. The problem is to analyze guest feedback, reviews, and complaints to identify areas for improvement and implement changes in services and amenities accordingly.\n",
        "\n",
        "Competitor Analysis: Understanding the competitive landscape is crucial for staying ahead in the market. The problem is to assess the performance of competitors, benchmark against industry standards, and adapt strategies in response to competitor actions.\n",
        "\n",
        "Marketing and Promotion: Effective marketing campaigns are essential for attracting and retaining customers. The problem is to analyze the performance of marketing efforts, allocate budgets efficiently, and target the right audience to maximize return on investment.\n",
        "\n",
        "Overall, the goal of this hotel booking analysis is to empower hotels with actionable insights, enabling them to optimize revenue, enhance customer satisfaction, and maintain a competitive edge in a dynamic and rapidly changing industry.\n"
      ],
      "metadata": {
        "id": "yQaldy8SH6Dl"
      }
    },
    {
      "cell_type": "markdown",
      "source": [
        "**Write Problem Statement Here.**"
      ],
      "metadata": {
        "id": "DpeJGUA3kjGy"
      }
    },
    {
      "cell_type": "markdown",
      "source": [
        "#### **Define Your Business Objective?**"
      ],
      "metadata": {
        "id": "PH-0ReGfmX4f"
      }
    },
    {
      "cell_type": "markdown",
      "source": [
        "Answer Here."
      ],
      "metadata": {
        "id": "PhDvGCAqmjP1"
      }
    },
    {
      "cell_type": "markdown",
      "source": [
        "# **General Guidelines** : -  "
      ],
      "metadata": {
        "id": "mDgbUHAGgjLW"
      }
    },
    {
      "cell_type": "markdown",
      "source": [
        "1.   Well-structured, formatted, and commented code is required.\n",
        "2.   Exception Handling, Production Grade Code & Deployment Ready Code will be a plus. Those students will be awarded some additional credits.\n",
        "     \n",
        "     The additional credits will have advantages over other students during Star Student selection.\n",
        "       \n",
        "             [ Note: - Deployment Ready Code is defined as, the whole .ipynb notebook should be executable in one go\n",
        "                       without a single error logged. ]\n",
        "\n",
        "3.   Each and every logic should have proper comments.\n",
        "4. You may add as many number of charts you want. Make Sure for each and every chart the following format should be answered.\n",
        "        \n",
        "\n",
        "```\n",
        "# Chart visualization code\n",
        "```\n",
        "            \n",
        "\n",
        "*   Why did you pick the specific chart?\n",
        "*   What is/are the insight(s) found from the chart?\n",
        "* Will the gained insights help creating a positive business impact?\n",
        "Are there any insights that lead to negative growth? Justify with specific reason.\n",
        "\n",
        "5. You have to create at least 20 logical & meaningful charts having important insights.\n",
        "\n",
        "\n",
        "[ Hints : - Do the Vizualization in  a structured way while following \"UBM\" Rule.\n",
        "\n",
        "U - Univariate Analysis,\n",
        "\n",
        "B - Bivariate Analysis (Numerical - Categorical, Numerical - Numerical, Categorical - Categorical)\n",
        "\n",
        "M - Multivariate Analysis\n",
        " ]\n",
        "\n",
        "\n",
        "\n"
      ],
      "metadata": {
        "id": "ZrxVaUj-hHfC"
      }
    },
    {
      "cell_type": "markdown",
      "source": [
        "# ***Let's Begin !***"
      ],
      "metadata": {
        "id": "O_i_v8NEhb9l"
      }
    },
    {
      "cell_type": "markdown",
      "source": [
        "## ***1. Know Your Data***"
      ],
      "metadata": {
        "id": "HhfV-JJviCcP"
      }
    },
    {
      "cell_type": "markdown",
      "source": [
        "### Import Libraries"
      ],
      "metadata": {
        "id": "Y3lxredqlCYt"
      }
    },
    {
      "cell_type": "code",
      "source": [
        "# Import Libraries\n",
        "import pandas as pd\n",
        "import numpy as np\n",
        "\n",
        "# importing visualization libraries\n",
        "import matplotlib.pyplot as plt\n",
        "import seaborn as sns\n",
        "from numpy import math"
      ],
      "metadata": {
        "id": "M8Vqi-pPk-HR"
      },
      "execution_count": null,
      "outputs": []
    },
    {
      "cell_type": "markdown",
      "source": [
        "### Dataset Loading"
      ],
      "metadata": {
        "id": "3RnN4peoiCZX"
      }
    },
    {
      "cell_type": "code",
      "source": [
        "# Load Dataset\n",
        "from google.colab import drive\n",
        "drive.mount('/content/drive')\n",
        "\n",
        "url = ('/content/drive/MyDrive/Project/Hotel Booking Analysis/Hotel Bookings.csv')\n",
        "\n",
        "data = pd.read_csv(url)"
      ],
      "metadata": {
        "id": "4CkvbW_SlZ_R"
      },
      "execution_count": null,
      "outputs": []
    },
    {
      "cell_type": "markdown",
      "source": [
        "### Dataset First View"
      ],
      "metadata": {
        "id": "x71ZqKXriCWQ"
      }
    },
    {
      "cell_type": "code",
      "source": [
        "# Dataset First Look\n",
        "data.head(50)"
      ],
      "metadata": {
        "id": "LWNFOSvLl09H"
      },
      "execution_count": null,
      "outputs": []
    },
    {
      "cell_type": "markdown",
      "source": [
        "### Dataset Rows & Columns count"
      ],
      "metadata": {
        "id": "7hBIi_osiCS2"
      }
    },
    {
      "cell_type": "code",
      "source": [
        "# Dataset Rows & Columns count\n",
        "rows_num , col_num = data.shape\n",
        "print('the number of rows',rows_num)\n",
        "print('the number of columns',col_num)"
      ],
      "metadata": {
        "id": "Kllu7SJgmLij"
      },
      "execution_count": null,
      "outputs": []
    },
    {
      "cell_type": "markdown",
      "source": [
        "### Dataset Information"
      ],
      "metadata": {
        "id": "JlHwYmJAmNHm"
      }
    },
    {
      "cell_type": "code",
      "source": [
        "# Dataset Info\n",
        "data.info()"
      ],
      "metadata": {
        "id": "e9hRXRi6meOf"
      },
      "execution_count": null,
      "outputs": []
    },
    {
      "cell_type": "markdown",
      "source": [
        "#### Duplicate Values"
      ],
      "metadata": {
        "id": "35m5QtbWiB9F"
      }
    },
    {
      "cell_type": "code",
      "source": [
        "# Identify duplicate rows, marking all duplicates as True\n",
        "duplicates = data.duplicated(keep=False)\n",
        "num_duplicates = duplicates.sum()\n",
        "\n",
        "print(f\"Number of duplicate rows: {num_duplicates}\")\n",
        "data[data.duplicated()].shape"
      ],
      "metadata": {
        "id": "1sLdpKYkmox0"
      },
      "execution_count": null,
      "outputs": []
    },
    {
      "cell_type": "code",
      "source": [
        "data.drop_duplicates(keep=False, inplace=True)\n",
        "data[data.duplicated()].shape"
      ],
      "metadata": {
        "id": "yjb5FvkSd08D"
      },
      "execution_count": null,
      "outputs": []
    },
    {
      "cell_type": "markdown",
      "source": [
        "#### Missing Values/Null Values"
      ],
      "metadata": {
        "id": "PoPl-ycgm1ru"
      }
    },
    {
      "cell_type": "code",
      "source": [
        "# Missing Values/Null Values Count\n",
        "# Identify missing values (True for missing, False for non-missing)\n",
        "missing_data = data.isnull().sum().sort_values()\n",
        "\n",
        "# Count the total number of missing values in the entire dataset\n",
        "total_missing = missing_data.sum()\n",
        "\n",
        "# Display the missing value counts\n",
        "print(\"Missing Value Counts:\")\n",
        "print(missing_data)\n",
        "\n",
        "# Display the total number of missing values\n",
        "print(f\"Total Missing Values: {total_missing}\")\n",
        "\n"
      ],
      "metadata": {
        "id": "GgHWkxvamxVg"
      },
      "execution_count": null,
      "outputs": []
    },
    {
      "cell_type": "markdown",
      "source": [
        "We can observed that there are 4 null values in the children columns, It may be higher possibility the customer with 0 children missed with filling, so we can fill this column by 0"
      ],
      "metadata": {
        "id": "DDEhxFH3mWSA"
      }
    },
    {
      "cell_type": "code",
      "source": [
        "data['children'] = data['children'].fillna(0)\n",
        "missing_data = data.isnull().sum().sort_values()\n",
        "print(missing_data)"
      ],
      "metadata": {
        "id": "WUZDWR94oBC5"
      },
      "execution_count": null,
      "outputs": []
    },
    {
      "cell_type": "code",
      "execution_count": null,
      "metadata": {
        "id": "rYiWYixDuS_u"
      },
      "outputs": [],
      "source": [
        "# we are having 442 missing values in country column, so we can replace this as 'others' for the categorization.\n",
        "data['country'] = data['country'].fillna('Other')\n",
        "missing_data = data.isnull().sum().sort_values()\n",
        "print(missing_data)"
      ]
    },
    {
      "cell_type": "markdown",
      "source": [
        "As we observe that Agent and Company are the booking medium for any hotel so may be Possible that customer have book directly whitout using any medium we can replace this column by 0"
      ],
      "metadata": {
        "id": "2_UAVI85sfP0"
      }
    },
    {
      "cell_type": "code",
      "source": [
        "data['agent'] = data['agent'].fillna(0)\n",
        "data['company'] = data['company'].fillna(0)\n",
        "\n",
        "missing_data = data.isnull().sum().sort_values()\n",
        "print(missing_data)"
      ],
      "metadata": {
        "id": "yz4KuAHBtGYl"
      },
      "execution_count": null,
      "outputs": []
    },
    {
      "cell_type": "code",
      "source": [
        "data[data['babies']+data['children'] + data['adults'] == 0].shape"
      ],
      "metadata": {
        "id": "t9NN6rivuUHz"
      },
      "execution_count": null,
      "outputs": []
    },
    {
      "cell_type": "markdown",
      "source": [
        "We can observe that some of data is 0 for rows babies,  children, adult which represent no of cutomer in booking are 0 so we can drop those details."
      ],
      "metadata": {
        "id": "VWo2xZEUuq-a"
      }
    },
    {
      "cell_type": "code",
      "source": [
        "data.drop(data[data['babies']+data['children']+data['adults']==0].index,inplace = True)"
      ],
      "metadata": {
        "id": "thWSzDb8uqV5"
      },
      "execution_count": null,
      "outputs": []
    },
    {
      "cell_type": "code",
      "source": [
        "# Visualizing the missing values\n",
        "missing_data = data.isnull().sum().sort_values().to_frame()\n",
        "plt.figure(figsize=(10, 6))\n",
        "sns.heatmap(missing_data, cmap='viridis', cbar=False)\n",
        "plt.title('Missing Data Heatmap')\n",
        "plt.show()"
      ],
      "metadata": {
        "id": "3q5wnI3om9sJ"
      },
      "execution_count": null,
      "outputs": []
    },
    {
      "cell_type": "markdown",
      "source": [
        "### What did you know about your dataset?"
      ],
      "metadata": {
        "id": "H0kj-8xxnORC"
      }
    },
    {
      "cell_type": "code",
      "source": [
        "data.shape"
      ],
      "metadata": {
        "id": "AhbAyIgs6i9z"
      },
      "execution_count": null,
      "outputs": []
    },
    {
      "cell_type": "code",
      "source": [
        "data.info()"
      ],
      "metadata": {
        "id": "0O1Zf1QHHPqy"
      },
      "execution_count": null,
      "outputs": []
    },
    {
      "cell_type": "markdown",
      "source": [
        "A hotel booking dataset typically contains information related to hotel reservations made by guests. Analyzing this dataset can provide valuable insights into various aspects of hotel operations, customer preferences, and market trends.\n",
        "This dataset contains information about bookings and revenue for resort and hotel properties from July 2015 to August 2017. The dataset consists of 79,069 rows and 32 columns, providing comprehensive details for analysis."
      ],
      "metadata": {
        "id": "4L1Y9WDbvHqq"
      }
    },
    {
      "cell_type": "markdown",
      "source": [
        "## ***2. Understanding Your Variables***"
      ],
      "metadata": {
        "id": "nA9Y7ga8ng1Z"
      }
    },
    {
      "cell_type": "code",
      "source": [
        "# Dataset Columns\n",
        "data.columns"
      ],
      "metadata": {
        "id": "j7xfkqrt5Ag5"
      },
      "execution_count": null,
      "outputs": []
    },
    {
      "cell_type": "code",
      "source": [
        "# Dataset Describe\n",
        "data.describe()"
      ],
      "metadata": {
        "id": "DnOaZdaE5Q5t"
      },
      "execution_count": null,
      "outputs": []
    },
    {
      "cell_type": "markdown",
      "source": [
        "### Variables Description"
      ],
      "metadata": {
        "id": "PBTbrJXOngz2"
      }
    },
    {
      "cell_type": "markdown",
      "source": [
        "hotel : Type of the hotel Categorical\n",
        "\n",
        "is_cancelled : whether booking is cancelled (cancelled = 1, not cancelled = 0 ) numerical\n",
        "\n",
        "lead_time : The number of days elapsed between the booking and the arrival date of the guests numerical\n",
        "\n",
        "arrival_date_year:year of the arrival numerical\n",
        "\n",
        "arrival_date_month : month of the arrival numerical\n",
        "\n",
        "arrival_date_week_number : week of the arrival numerical\n",
        "\n",
        "arrival_date_day_of_the_month : day of the arrival numerical\n",
        "\n",
        "stays_in_weekend_nights : number of weekend nights stayed numerical\n",
        "\n",
        "stays_in_week_nights : number of week nights stayed numerical\n",
        "\n",
        "adults : number of adults numerical\n",
        "\n",
        "children : number of children numerical\n",
        "\n",
        "babies : number of babies numerical\n",
        "\n",
        "meal : type of the meal categorical\n",
        "\n",
        "country : country of the guest country\n",
        "\n",
        "market_segment : which segment the customer belongs to country\n",
        "\n",
        "Disribution_channel : Through which means guest got booking categorical\n",
        "\n",
        "is_repeated_guest : whether the guest is repeated(repeated = 1, not repeated = 0) categorical\n",
        "\n",
        "previous_cancellation : is there any previous cancellations of the guest categorical\n",
        "\n",
        "previous_booking : number of completed bookings of the guest numerical\n",
        "\n",
        "reserved_room_type : type of the room guest booked categorical\n",
        "\n",
        "assigned_room_type : room assigned to the guest for the booking categorical\n",
        "\n",
        "booking_changes : number of changes made in the booking numerical\n",
        "\n",
        "deposit_type : type of deposit the guest made categorical\n",
        "\n",
        "agent : ID of the agentcategorical\n",
        "\n",
        "company : ID of the company categorical\n",
        "\n",
        "days_in_waiting_list : number of days to wait numerical\n",
        "\n",
        "customer_type : type of the customer categorical\n",
        "\n",
        "adr : average daily rate(ADR) numerical\n",
        "\n",
        "required_car_parking : number of car parking spaces required to the guest numerical\n",
        "\n",
        "total_of_special_requests : special requests made by the guests numerical\n",
        "\n",
        "reservation_status : status of the reservation categorical\n",
        "\n",
        "reservation_status_date :date of reservation date"
      ],
      "metadata": {
        "id": "aJV4KIxSnxay"
      }
    },
    {
      "cell_type": "markdown",
      "source": [
        "### Check Unique Values for each variable."
      ],
      "metadata": {
        "id": "u3PMJOP6ngxN"
      }
    },
    {
      "cell_type": "code",
      "source": [
        "# Get the number of unique values in each column\n",
        "unique_counts = data.nunique()\n",
        "\n",
        "# Print the number of unique values for each column\n",
        "print(\"Number of unique values in each column:\")\n",
        "print(unique_counts)\n"
      ],
      "metadata": {
        "id": "zms12Yq5n-jE"
      },
      "execution_count": null,
      "outputs": []
    },
    {
      "cell_type": "markdown",
      "source": [
        "## 3. ***Data Wrangling***"
      ],
      "metadata": {
        "id": "dauF4eBmngu3"
      }
    },
    {
      "cell_type": "markdown",
      "source": [
        "### Data Wrangling Code"
      ],
      "metadata": {
        "id": "bKJF3rekwFvQ"
      }
    },
    {
      "cell_type": "code",
      "source": [
        "# Write your code to make your dataset analysis ready.\n",
        "df = data.copy()"
      ],
      "metadata": {
        "id": "wk-9a2fpoLcV"
      },
      "execution_count": null,
      "outputs": []
    },
    {
      "cell_type": "code",
      "source": [
        "df['hotel'].value_counts()"
      ],
      "metadata": {
        "id": "YGy5PoLXI1Lx"
      },
      "execution_count": null,
      "outputs": []
    },
    {
      "cell_type": "code",
      "source": [
        "df['arrival_date_year'].value_counts()"
      ],
      "metadata": {
        "id": "Z59xiLsAJStY"
      },
      "execution_count": null,
      "outputs": []
    },
    {
      "cell_type": "code",
      "source": [
        "df['country'].value_counts()"
      ],
      "metadata": {
        "id": "jXJBe6AbKKsx"
      },
      "execution_count": null,
      "outputs": []
    },
    {
      "cell_type": "code",
      "source": [
        "# creating a new column as total_nights by adding stays_in_weekend_nights and stays_in_week_nights\n",
        "\n",
        "df['total_nights'] = df['stays_in_weekend_nights'] + df['stays_in_week_nights']"
      ],
      "metadata": {
        "id": "piXev06mJ_w6"
      },
      "execution_count": null,
      "outputs": []
    },
    {
      "cell_type": "code",
      "source": [
        "# creating a new column as total_nights by adding stays_in_weekend_nights and stays_in_week_nights\n",
        "\n",
        "df['child'] = df['children'] + df['babies']"
      ],
      "metadata": {
        "id": "ONETOnrPKpLZ"
      },
      "execution_count": null,
      "outputs": []
    },
    {
      "cell_type": "code",
      "source": [
        "df['total_count'] = df['adults'] + df['children'] + df['babies']"
      ],
      "metadata": {
        "id": "2Ri6QMM2KKYp"
      },
      "execution_count": null,
      "outputs": []
    },
    {
      "cell_type": "code",
      "source": [
        "df['distribution_channel'].value_counts()"
      ],
      "metadata": {
        "id": "hPMsLxPANT5n"
      },
      "execution_count": null,
      "outputs": []
    },
    {
      "cell_type": "markdown",
      "source": [
        "From the above observation we found Undefined data for distribution_channel,\n",
        "we can handle the undefined values in the distribution_channel column by replacing them with \"TA/TO\" since its proportion is significantly higher compared to other categories.\n",
        "it is more likely to replace the undefined values in the distribution_channel column with \"TA/TO\" to ensure consistency and improve the analysis."
      ],
      "metadata": {
        "id": "Tc0WjIM0PbOq"
      }
    },
    {
      "cell_type": "code",
      "source": [
        "df['distribution_channel'] = df['distribution_channel'].replace(to_replace = 'Undefined', value = 'TA/TO')"
      ],
      "metadata": {
        "id": "QjMWmnE0Qdbd"
      },
      "execution_count": null,
      "outputs": []
    },
    {
      "cell_type": "code",
      "source": [
        "df['distribution_channel'].value_counts()"
      ],
      "metadata": {
        "id": "nVFaHzWdQrZN"
      },
      "execution_count": null,
      "outputs": []
    },
    {
      "cell_type": "markdown",
      "source": [
        "### What all manipulations have you done and insights you found?"
      ],
      "metadata": {
        "id": "MSa1f5Uengrz"
      }
    },
    {
      "cell_type": "markdown",
      "source": [
        "In the previous steps, we performed data wrangling by adding new columns and modifying existing columns to enhance our analysis.\n",
        "\n",
        "we introduced new columns to capture the total number of people involved in each booking. By aggregating the 'children', 'babies', and 'adults' columns into a new column called 'total_count', we can analyze the bookings based on the total number of individuals.\n",
        "\n",
        "Another new column we added is 'total_nights', which represents the total number of nights for each booking. This allows us to examine the bookings from the perspective of the duration of stay.\n",
        "\n",
        "Furthermore, we recognized the importance of visual representations in our analysis. By plotting graphs and visualizations, we can gain deeper insights and effectively communicate our findings to stakeholders."
      ],
      "metadata": {
        "id": "LbyXE7I1olp8"
      }
    },
    {
      "cell_type": "markdown",
      "source": [
        "## ***4. Data Vizualization, Storytelling & Experimenting with charts : Understand the relationships between variables***"
      ],
      "metadata": {
        "id": "GF8Ens_Soomf"
      }
    },
    {
      "cell_type": "markdown",
      "source": [
        "#### Chart - 1 Hotel Booking By Region"
      ],
      "metadata": {
        "id": "0wOQAZs5pc--"
      }
    },
    {
      "cell_type": "code",
      "source": [
        "# Chart - 1 visualization code\n",
        "df1 = df['hotel'].value_counts()\n",
        "x = df1.index\n",
        "y = df1.values\n",
        "\n",
        "plt.figure(figsize= (10,8))\n",
        "plots = sns.barplot(x=x, y=y/sum(y)*100)\n",
        "\n",
        "for bar in plots.patches:\n",
        "  plots.annotate(f'{format(bar.get_height(),\".1f\")}%',\n",
        "                 (bar.get_x() + bar.get_width()/2,bar.get_height()),\n",
        "                 size = 12, xytext = (0,8), ha ='center',va= 'center',\n",
        "                 textcoords = 'offset points')\n",
        "\n",
        "plt.title('Bookings basis on hotel type')\n",
        "plt.xlabel('hotel Type')\n",
        "plt.ylabel('bookings Percentage')\n",
        "plt.show()\n",
        "\n",
        "city_hotel_bookings = df1[0]\n",
        "resort_hotel_bookings = df1[1]\n",
        "total_bookings = city_hotel_bookings + resort_hotel_bookings\n",
        "print('the city hotel bookings are',city_hotel_bookings)\n",
        "print('the resort hotel bookings are',resort_hotel_bookings)\n",
        "print('the total bookings are',total_bookings)"
      ],
      "metadata": {
        "id": "7v_ESjsspbW7"
      },
      "execution_count": null,
      "outputs": []
    },
    {
      "cell_type": "markdown",
      "source": [
        "##### 1. Why did you pick the specific chart?"
      ],
      "metadata": {
        "id": "K5QZ13OEpz2H"
      }
    },
    {
      "cell_type": "markdown",
      "source": [
        "Answer:- Bar charts are effective for comparing categorical data or showing the distribution of values across different categories. They're especially useful for displaying discrete data, making it easy to interpret and compare values visually. To show the percentage of bookings for city hotel and resort hotel we have used bar chart."
      ],
      "metadata": {
        "id": "XESiWehPqBRc"
      }
    },
    {
      "cell_type": "markdown",
      "source": [
        "##### 2. What is/are the insight(s) found from the chart?"
      ],
      "metadata": {
        "id": "lQ7QKXXCp7Bj"
      }
    },
    {
      "cell_type": "markdown",
      "source": [
        "Answer From the observation, it is found that the dataset contains two types of hotels: city hotels and resort hotels. The total number of bookings in the dataset is 79069, out of which 47437 bookings are for city hotels and 31632 bookings are for resort hotels. This means that city hotels account for 60% of the bookings, while resort hotels account for 40%. The percentage of bookings for resort hotels is slightly lower compared to city hotels."
      ],
      "metadata": {
        "id": "C_j1G7yiqdRP"
      }
    },
    {
      "cell_type": "markdown",
      "source": [
        "##### 3. Will the gained insights help creating a positive business impact?\n",
        "Are there any insights that lead to negative growth? Justify with specific reason."
      ],
      "metadata": {
        "id": "448CDAPjqfQr"
      }
    },
    {
      "cell_type": "markdown",
      "source": [
        "Yes, the gained insights can help to create a positive business impact. By analyzing the booking percentages of both city hotels and resort hotels, we can identify key parameters that are important for increasing bookings. This information can be used to make improvements in areas that may lead to increased bookings and overall business growth.\n",
        "\n",
        "There are no insights from the given analysis that indicate negative growth. The focus is on identifying opportunities for improvement."
      ],
      "metadata": {
        "id": "3cspy4FjqxJW"
      }
    },
    {
      "cell_type": "markdown",
      "source": [
        "#### Chart - 2  Hotel Booking ration of 'is_cancelled' and 'not cancelled'"
      ],
      "metadata": {
        "id": "KSlN3yHqYklG"
      }
    },
    {
      "cell_type": "code",
      "source": [
        "# Chart - 2 visualization code\n",
        "df2 = df['is_canceled'].value_counts()\n",
        "x = df2.index.values\n",
        "y = df2.values\n",
        "\n",
        "plt.figure(figsize=(10,7))\n",
        "plots = sns.barplot(x = x, y = y/sum(y)*100)\n",
        "for bar in plots.patches:\n",
        "  plots.annotate(f'{format(bar.get_height(),\".1f\")}%',\n",
        "                    (bar.get_x() + bar.get_width()/2,\n",
        "                    bar.get_height()), ha='center',va ='center',\n",
        "                    size = 12,xytext = (0,8),\n",
        "                    textcoords = 'offset points')\n",
        "\n",
        "plt.xlabel('Booking Cancelled (Booking cancelled = 0, not cancelled = 1)')\n",
        "plt.ylabel('Percentage of bookings')\n",
        "plt.title('Booking info(Cancelled & Not Cancelled)')\n",
        "plt.show()\n",
        "\n",
        "no_of_bookings_not_cancelled = df2[1]\n",
        "no_of_bookings_cancelled = df2[0]\n",
        "total_bookings = no_of_bookings_not_cancelled + no_of_bookings_cancelled\n",
        "\n",
        "print(\"bookings not cancelled\",(no_of_bookings_not_cancelled))\n",
        "print(\"bookings cancelled\",(no_of_bookings_cancelled ))\n",
        "print('Total bookings are', total_bookings)"
      ],
      "metadata": {
        "id": "R4YgtaqtYklH"
      },
      "execution_count": null,
      "outputs": []
    },
    {
      "cell_type": "markdown",
      "source": [
        "##### 1. Why did you pick the specific chart?"
      ],
      "metadata": {
        "id": "t6dVpIINYklI"
      }
    },
    {
      "cell_type": "markdown",
      "source": [
        "Answer Bar charts are effective for comparing categorical data or showing the distribution of values across different categories. They're especially useful for displaying discrete data, making it easy to interpret and compare values visually. To show the percentage of bookings are cancelled and not cancelled we have used bar chart."
      ],
      "metadata": {
        "id": "5aaW0BYyYklI"
      }
    },
    {
      "cell_type": "markdown",
      "source": [
        "##### 2. What is/are the insight(s) found from the chart?"
      ],
      "metadata": {
        "id": "ijmpgYnKYklI"
      }
    },
    {
      "cell_type": "markdown",
      "source": [
        "Answer: From the observation, it is found that the dataset contains two types of hotel booking: cancelled and not cancelled. The total number of bookings in the dataset is 79069, out of which 20762 bookings are cancelled and 58307 bookings are not cancelled. This means that cancelled hotels are 26.3% of the bookings, while bookings are not cancelled are 73.7%. The percentage of bookings for are cancelled is slightly lower compared to booking not cancelled."
      ],
      "metadata": {
        "id": "PSx9atu2YklI"
      }
    },
    {
      "cell_type": "markdown",
      "source": [
        "##### 3. Will the gained insights help creating a positive business impact?\n",
        "Are there any insights that lead to negative growth? Justify with specific reason."
      ],
      "metadata": {
        "id": "-JiQyfWJYklI"
      }
    },
    {
      "cell_type": "markdown",
      "source": [
        "Answer: Yes, the gained insights can help to create a positive business impact. By analyzing the booking percentages of both cancelled and non cancelled hotels, we can identify key parameters that are important for increasing bookings. This information can be used to make improvements in areas that may lead to increased bookings and overall business growth.\n",
        "\n",
        "There are no insights from the given analysis that indicate negative growth. The focus is on identifying opportunities for improvement."
      ],
      "metadata": {
        "id": "BcBbebzrYklV"
      }
    },
    {
      "cell_type": "markdown",
      "source": [
        "#### Chart - 3  Analysing Booking in Country"
      ],
      "metadata": {
        "id": "EM7whBJCYoAo"
      }
    },
    {
      "cell_type": "code",
      "source": [
        "# Chart - 3 visualization code\n",
        "df3 = df['country'].value_counts().head(10)\n",
        "x = df3.index\n",
        "y = df3.values\n",
        "plt.figure(figsize = (7,5))\n",
        "plots = sns.barplot(x =x, y= y/sum(y)* 100)\n",
        "\n",
        "for bar in plots.patches:\n",
        "  plots.annotate(f'{format(bar.get_height(),\".1f\")}%',\n",
        "                 (bar.get_x() + bar.get_width()/2, bar.get_height()),\n",
        "                 size = 10, xytext = (0,9), ha= 'center',va = 'center',\n",
        "                 textcoords = 'offset points')\n",
        "\n",
        "plt.title('Bookings of the guests from different countries')\n",
        "plt.xlabel('Country')\n",
        "plt.ylabel('percentage of the bookings')\n",
        "plt.show()\n",
        "\n",
        "for i,j in df3.items():\n",
        "  print(\"The country\",i,'having',j,'bookings')"
      ],
      "metadata": {
        "id": "t6GMdE67YoAp"
      },
      "execution_count": null,
      "outputs": []
    },
    {
      "cell_type": "markdown",
      "source": [
        "##### 1. Why did you pick the specific chart?"
      ],
      "metadata": {
        "id": "fge-S5ZAYoAp"
      }
    },
    {
      "cell_type": "markdown",
      "source": [
        "Answer Bar charts are effective for comparing categorical data or showing the distribution of values across different categories. They're especially useful for displaying discrete data, making it easy to interpret and compare values visually. To show the percentage of bookings base on country we have used bar chart."
      ],
      "metadata": {
        "id": "5dBItgRVYoAp"
      }
    },
    {
      "cell_type": "markdown",
      "source": [
        "##### 2. What is/are the insight(s) found from the chart?"
      ],
      "metadata": {
        "id": "85gYPyotYoAp"
      }
    },
    {
      "cell_type": "markdown",
      "source": [
        "Answer From the observation, it is found that the dataset contains Country wise hotel booking.The total number of bookings in the dataset is 79069.\n",
        "\n",
        "*   Out of which PRT contain **highest** no of booking 24173 Which is 37.5%\n",
        "*   NLD CONTAIN **LOWEST** NO OF BOOKING 1771 Which is only 2.7% of total booking.\n",
        "\n",
        "*   These Analysis help us understand the booking patterns and the significance of different countries in terms of generating bookings. It allows us to identify the countries with the highest potential and focus our marketing efforts accordingly.\n"
      ],
      "metadata": {
        "id": "4jstXR6OYoAp"
      }
    },
    {
      "cell_type": "markdown",
      "source": [
        "##### 3. Will the gained insights help creating a positive business impact?\n",
        "Are there any insights that lead to negative growth? Justify with specific reason."
      ],
      "metadata": {
        "id": "RoGjAbkUYoAp"
      }
    },
    {
      "cell_type": "markdown",
      "source": [
        "Answer Yes, the gained insights can help to create a positive business impact. By analyzing the booking percentages of countries, we can identify key parameters that are important for increasing bookings. This information can be used to make improvements in areas that may lead to increased bookings and overall business growth.\n",
        "\n",
        "There are no insights from the given analysis that indicate negative growth. The focus is on identifying opportunities for improvement."
      ],
      "metadata": {
        "id": "zfJ8IqMcYoAp"
      }
    },
    {
      "cell_type": "markdown",
      "source": [
        "#### Chart - 4 Hotel Booking base on room type"
      ],
      "metadata": {
        "id": "4Of9eVA-YrdM"
      }
    },
    {
      "cell_type": "code",
      "source": [
        "# Chart - 4 visualization code\n",
        "df4 = df['reserved_room_type'].value_counts()\n",
        "x = df4.index\n",
        "y = df4.values\n",
        "plt.figure(figsize = (7,5))\n",
        "plots = sns.barplot(x= x,y= y/sum(y)*100)\n",
        "\n",
        "for bar in plots.patches:\n",
        "  plots.annotate(f'{format(bar.get_height(),\".1f\")}%',\n",
        "                 (bar.get_x() + bar.get_width()/2, bar.get_height()),\n",
        "                 size = 10, xytext = (0,5),ha = 'center',va = 'center',\n",
        "                 textcoords = 'offset points')\n",
        "\n",
        "plt.title('Bookings for reserved room type')\n",
        "plt.xlabel('Room type')\n",
        "plt.ylabel('Percentage of bookings')\n",
        "plt.show()\n",
        "\n",
        "for i,j in df4.items():\n",
        "  print('The reserved room type is',i,'and the bookings are',j)"
      ],
      "metadata": {
        "id": "irlUoxc8YrdO"
      },
      "execution_count": null,
      "outputs": []
    },
    {
      "cell_type": "markdown",
      "source": [
        "##### 1. Why did you pick the specific chart?"
      ],
      "metadata": {
        "id": "iky9q4vBYrdO"
      }
    },
    {
      "cell_type": "markdown",
      "source": [
        "Answer Bar charts are effective for comparing categorical data or showing the distribution of values across different categories. They're especially useful for displaying discrete data, making it easy to interpret and compare values visually. To show the percentage of bookings base on Room type we have used bar chart."
      ],
      "metadata": {
        "id": "aJRCwT6DYrdO"
      }
    },
    {
      "cell_type": "markdown",
      "source": [
        "##### 2. What is/are the insight(s) found from the chart?"
      ],
      "metadata": {
        "id": "F6T5p64dYrdO"
      }
    },
    {
      "cell_type": "markdown",
      "source": [
        "Answer From the observation, it is found that the dataset contains Country wise hotel booking.The total number of bookings in the dataset is 79069.\n",
        "\n",
        "*   A room type contain highest no of booking 49860 Which is 63.1%\n",
        "\n",
        "*   L room type contain Lowest NO OF booking 6 Which is only 0.0075% of total booking.\n",
        "\n",
        "These Analysis help us understand the booking patterns and the significance of different countries in terms of generating bookings. It allows us to identify the countries with the highest potential and focus our marketing efforts accordingly."
      ],
      "metadata": {
        "id": "Xx8WAJvtYrdO"
      }
    },
    {
      "cell_type": "markdown",
      "source": [
        "##### 3. Will the gained insights help creating a positive business impact?\n",
        "Are there any insights that lead to negative growth? Justify with specific reason."
      ],
      "metadata": {
        "id": "y-Ehk30pYrdP"
      }
    },
    {
      "cell_type": "markdown",
      "source": [
        "Answer Yes, the gained insights can help to create a positive business impact. By analyzing the booking percentages base on room type, we can identify key parameters that are important for increasing bookings. This information can be used to make improvements in areas that may lead to increased bookings and overall business growth.\n",
        "\n",
        "There are no insights from the given analysis that indicate negative growth. The focus is on identifying opportunities for improvement."
      ],
      "metadata": {
        "id": "jLNxxz7MYrdP"
      }
    },
    {
      "cell_type": "markdown",
      "source": [
        "#### Chart - 5 Hotel Booking Month Analysis"
      ],
      "metadata": {
        "id": "bamQiAODYuh1"
      }
    },
    {
      "cell_type": "code",
      "source": [
        "# Chart - 5 visualization code\n",
        "df5 = df['arrival_date_month'].value_counts()\n",
        "x = df5.index\n",
        "y = df5.values\n",
        "plt.figure(figsize = (10,5))\n",
        "plots = sns.barplot(x =x,y = y/sum(y)* 100)\n",
        "\n",
        "for bar in plots.patches:\n",
        "  plots.annotate(f'{format(bar.get_height(),\".1f\")}%',\n",
        "                 (bar.get_x()+ bar.get_width()/2, bar.get_height()),\n",
        "                 size = 8, xytext = (0,5), ha= 'center',\n",
        "                 va ='center',textcoords = 'offset points')\n",
        "\n",
        "for i , j in df5.items():\n",
        "  print('The arrival month of the guest is',i,'and its bookings are',j)"
      ],
      "metadata": {
        "id": "TIJwrbroYuh3"
      },
      "execution_count": null,
      "outputs": []
    },
    {
      "cell_type": "markdown",
      "source": [
        "##### 1. Why did you pick the specific chart?"
      ],
      "metadata": {
        "id": "QHF8YVU7Yuh3"
      }
    },
    {
      "cell_type": "markdown",
      "source": [
        "Answer Bar charts are effective for comparing categorical data or showing the distribution of values across different categories. They're especially useful for displaying discrete data, making it easy to interpret and compare values visually. To show the percentage of bookings base on Month. we have used bar chart."
      ],
      "metadata": {
        "id": "dcxuIMRPYuh3"
      }
    },
    {
      "cell_type": "markdown",
      "source": [
        "##### 2. What is/are the insight(s) found from the chart?"
      ],
      "metadata": {
        "id": "GwzvFGzlYuh3"
      }
    },
    {
      "cell_type": "markdown",
      "source": [
        "Answer  From the observation, it is found that the dataset contains Country wise hotel booking.The total number of bookings in the dataset is 79069.\n",
        "\n",
        "\n",
        "*   The month of August has the highest percentage of guest arrivals, accounting for 11.6% of the total bookings.\n",
        "*   the month of January has the lowest percentage of guest arrivals, with only 5.0% of the total bookings.\n",
        "\n",
        "These Analysis help us understand the booking patterns and the significance of different Months in terms of generating bookings. It allows us to identify the countries with the highest potential and focus our marketing efforts accordingly."
      ],
      "metadata": {
        "id": "uyqkiB8YYuh3"
      }
    },
    {
      "cell_type": "markdown",
      "source": [
        "##### 3. Will the gained insights help creating a positive business impact?\n",
        "Are there any insights that lead to negative growth? Justify with specific reason."
      ],
      "metadata": {
        "id": "qYpmQ266Yuh3"
      }
    },
    {
      "cell_type": "markdown",
      "source": [
        "Answer Yes, the gained insights can help to create a positive business impact. By analyzing the booking percentages base on Month , we can identify key parameters that are important for increasing bookings. This information can be used to make improvements in areas that may lead to increased bookings and overall business growth.\n",
        "\n",
        "There are no insights from the given analysis that indicate negative growth. The focus is on identifying opportunities for improvement."
      ],
      "metadata": {
        "id": "_WtzZ_hCYuh4"
      }
    },
    {
      "cell_type": "markdown",
      "source": [
        "#### Chart - 6 Analysis Average daily  rate"
      ],
      "metadata": {
        "id": "OH-pJp9IphqM"
      }
    },
    {
      "cell_type": "code",
      "source": [
        "# Chart - 6 visualization code\n",
        "daily_rate = df.groupby('hotel')['adr'].mean().reset_index().rename(columns = {'adr' :'avg_adr'})\n",
        "print(daily_rate)\n",
        "plt.figure(figsize = (10,7))\n",
        "sns.barplot(x = daily_rate['hotel'], y = daily_rate['avg_adr'])"
      ],
      "metadata": {
        "id": "kuRf4wtuphqN"
      },
      "execution_count": null,
      "outputs": []
    },
    {
      "cell_type": "markdown",
      "source": [
        "##### 1. Why did you pick the specific chart?"
      ],
      "metadata": {
        "id": "bbFf2-_FphqN"
      }
    },
    {
      "cell_type": "markdown",
      "source": [
        "Answer Bar charts are effective for comparing categorical data or showing the distribution of values across different categories. They're especially useful for displaying discrete data, making it easy to interpret and compare values visually. To show the percentage of Averagw booking rate. we have used bar chart."
      ],
      "metadata": {
        "id": "loh7H2nzphqN"
      }
    },
    {
      "cell_type": "markdown",
      "source": [
        "##### 2. What is/are the insight(s) found from the chart?"
      ],
      "metadata": {
        "id": "_ouA3fa0phqN"
      }
    },
    {
      "cell_type": "markdown",
      "source": [
        "Answer From the observation, it is found that the dataset contains Country wise hotel booking.The total number of bookings in the dataset is 79069.\n",
        "\n",
        "\n",
        "the month of January has the lowest percentage of guest arrivals, with only 5.0% of the total bookings.\n",
        "\n",
        "*   city hotel price is 105 and resort hotel price is 94\n",
        "*   we found that as city hotel demand is more the price of city hotels are higher then resort.\n",
        "\n"
      ],
      "metadata": {
        "id": "VECbqPI7phqN"
      }
    },
    {
      "cell_type": "markdown",
      "source": [
        "##### 3. Will the gained insights help creating a positive business impact?\n",
        "Are there any insights that lead to negative growth? Justify with specific reason."
      ],
      "metadata": {
        "id": "Seke61FWphqN"
      }
    },
    {
      "cell_type": "markdown",
      "source": [
        "Answer Yes, the gained insights can help to create a positive business impact. By analyzing the booking percentages  on price of hotel base on hotel type , we can identify key parameters that are important for increasing bookings. This information can be used to make improvements in areas that may lead to increased bookings and overall business growth.\n",
        "\n",
        "There are no insights from the given analysis that indicate negative growth. The focus is on identifying opportunities for improvement."
      ],
      "metadata": {
        "id": "DW4_bGpfphqN"
      }
    },
    {
      "cell_type": "markdown",
      "source": [
        "#### Chart - 7 Analysis Total no of person for single booking"
      ],
      "metadata": {
        "id": "PIIx-8_IphqN"
      }
    },
    {
      "cell_type": "code",
      "source": [
        "# Chart - 7 visualization code\n",
        "df7 = df['total_count'].value_counts()\n",
        "x = df7.index\n",
        "y = df7.values\n",
        "\n",
        "plt.figure(figsize  =(10,5))\n",
        "plots = sns.barplot(x= x, y =y/sum(y) * 100)\n",
        "plt.title(\"Total number of persons for single booking\")\n",
        "plt.xlabel(\"Number of persons\")\n",
        "plt.ylabel(\"Percentage of bookings\")\n",
        "plt.show()\n",
        "\n",
        "for i,j in df7.items():\n",
        "  percentage = round(j/sum(df7.values)*100,2)\n",
        "  print(f'The number of people for a booking is {i} and the number of bookings are {j} i.e {percentage}%')"
      ],
      "metadata": {
        "id": "lqAIGUfyphqO"
      },
      "execution_count": null,
      "outputs": []
    },
    {
      "cell_type": "markdown",
      "source": [
        "##### 1. Why did you pick the specific chart?"
      ],
      "metadata": {
        "id": "t27r6nlMphqO"
      }
    },
    {
      "cell_type": "markdown",
      "source": [
        "Answer  Bar charts are effective for comparing categorical data or showing the distribution of values across different categories. They're especially useful for displaying discrete data, making it easy to interpret and compare values visually. To show the no of People on  base on Single booking. we have used bar chart."
      ],
      "metadata": {
        "id": "iv6ro40sphqO"
      }
    },
    {
      "cell_type": "markdown",
      "source": [
        "##### 2. What is/are the insight(s) found from the chart?"
      ],
      "metadata": {
        "id": "r2jJGEOYphqO"
      }
    },
    {
      "cell_type": "markdown",
      "source": [
        "Answer From the observation, it is found that the dataset contains Country wise hotel booking.The total number of bookings in the dataset is 79069.\n",
        "\n",
        "\n",
        "*   The majority of bookings consist of 2 persons.\n",
        "*   Single-person bookings also make up a considerable proportion\n",
        "*   more then Two Person reservations representing a smaller percentage of the total bookings.\n",
        "\n",
        "\n"
      ],
      "metadata": {
        "id": "Po6ZPi4hphqO"
      }
    },
    {
      "cell_type": "markdown",
      "source": [
        "##### 3. Will the gained insights help creating a positive business impact?\n",
        "Are there any insights that lead to negative growth? Justify with specific reason."
      ],
      "metadata": {
        "id": "b0JNsNcRphqO"
      }
    },
    {
      "cell_type": "markdown",
      "source": [
        "Answer Yes, the gained insights can help to create a positive business impact. By analyzing the booking percentages base on number of people per boooking , we can identify key parameters that are important for increasing bookings. This information can be used to make improvements in areas that may lead to increased bookings and overall business growth.\n",
        "\n",
        "There are no insights from the given analysis that indicate negative growth. The focus is on identifying opportunities for improvement."
      ],
      "metadata": {
        "id": "xvSq8iUTphqO"
      }
    },
    {
      "cell_type": "markdown",
      "source": [
        "#### Chart - 8 Analysis of repeated guest"
      ],
      "metadata": {
        "id": "BZR9WyysphqO"
      }
    },
    {
      "cell_type": "code",
      "source": [
        "# Chart - 8 visualization code\n",
        "repeated_guest = df[df['is_repeated_guest']== 1]\n",
        "temp_repeated_guest = pd.DataFrame(repeated_guest.groupby('hotel').size()).rename(columns = {0: 'total repeated guest'})\n",
        "\n",
        "# calculating the total number of bookings for each type of the hotel\n",
        "total_bookings = pd.DataFrame(df.groupby('hotel').size()).rename(columns = {0:'total bookings'})\n",
        "\n",
        "# concatinating the two dataframes for plotting the graph\n",
        "repeated_guest_to_hotel = pd.concat([temp_repeated_guest,total_bookings], axis = 1)\n",
        "\n",
        "# calculating the percentage of the guests returned to each type of the hotel\n",
        "repeated_guest_to_hotel['return %'] = (repeated_guest_to_hotel['total repeated guest']/repeated_guest_to_hotel['total bookings']) * 100\n",
        "\n",
        "print(repeated_guest_to_hotel)\n",
        "\n",
        "# plotting the graph for the above dataframe\n",
        "plt.figure(figsize = (8,5))\n",
        "sns.barplot(x = repeated_guest_to_hotel.index, y = repeated_guest_to_hotel['return %'])"
      ],
      "metadata": {
        "id": "TdPTWpAVphqO"
      },
      "execution_count": null,
      "outputs": []
    },
    {
      "cell_type": "markdown",
      "source": [
        "##### 1. Why did you pick the specific chart?"
      ],
      "metadata": {
        "id": "jj7wYXLtphqO"
      }
    },
    {
      "cell_type": "markdown",
      "source": [
        "Answer  Bar charts are effective for comparing categorical data or showing the distribution of values across different categories. They're especially useful for displaying discrete data, making it easy to interpret and compare values visually. To show the no of People on base on Repeated Guest. we have used bar chart."
      ],
      "metadata": {
        "id": "Ob8u6rCTphqO"
      }
    },
    {
      "cell_type": "markdown",
      "source": [
        "##### 2. What is/are the insight(s) found from the chart?"
      ],
      "metadata": {
        "id": "eZrbJ2SmphqO"
      }
    },
    {
      "cell_type": "markdown",
      "source": [
        "Answer From the observation, it is found that the dataset contains Country wise hotel booking.The total number of bookings in the dataset is 79069.\n",
        "\n",
        "The majority of repeated bookings are more in Resort Hotel.\n",
        "Resort hotel booking is dauble then city hotel booking."
      ],
      "metadata": {
        "id": "mZtgC_hjphqO"
      }
    },
    {
      "cell_type": "markdown",
      "source": [
        "##### 3. Will the gained insights help creating a positive business impact?\n",
        "Are there any insights that lead to negative growth? Justify with specific reason."
      ],
      "metadata": {
        "id": "rFu4xreNphqO"
      }
    },
    {
      "cell_type": "markdown",
      "source": [
        "Answer Yes, the gained insights can help to create a positive business impact. By analyzing the booking percentages base on number of repeated boooking , we can identify key parameters that are important for increasing bookings. This information can be used to make improvements in areas that may lead to increased bookings and overall business growth.\n",
        "\n",
        "There are no insights from the given analysis that indicate negative growth. The focus is on identifying opportunities for improvement."
      ],
      "metadata": {
        "id": "ey_0qi68phqO"
      }
    },
    {
      "cell_type": "markdown",
      "source": [
        "#### Chart - 9 Analysis Average Price of hotel per month"
      ],
      "metadata": {
        "id": "YJ55k-q6phqO"
      }
    },
    {
      "cell_type": "code",
      "source": [
        "# Chart - 9 visualization code\n",
        "df_city = df[(df['hotel'] == 'City Hotel') & (df['is_canceled'] == 0)]\n",
        "df_resort = df[(df['hotel'] == 'Resort Hotel') & (df['is_canceled'] == 0)]\n",
        "\n",
        "# calculating the mean of the df_city & df_resort variables and storing them in new varibles\n",
        "city = df_city.groupby('arrival_date_month')['adr'].mean().reset_index()\n",
        "resort = df_resort.groupby('arrival_date_month')['adr'].mean().reset_index()\n",
        "\n",
        "# merging the both variables basis on the same column of arrival_date_month\n",
        "hotel  = city.merge(resort,on='arrival_date_month')\n",
        "\n",
        "# renaming the columns in the hotel variable\n",
        "hotel.columns = ['month','price_for_city','price_for_resort']\n",
        "\n",
        "# creating new variable of months\n",
        "months = ['January','Febraury','March','April','May','June','July','August','September','October','November','December']\n",
        "\n",
        "# assigning the month column to the new variable of months column and categorizing the column baisis of it\n",
        "hotel['month'] = pd.Categorical(hotel['month'],categories = months,ordered = True)\n",
        "hotel = hotel.sort_values('month').reset_index()\n",
        "plt.figure(figsize = (10,8))\n",
        "print(hotel)\n",
        "# plotting the line chart for the comparison of the city and resort hotel type with adr monthly wise\n",
        "sns.lineplot(data = hotel, x ='month', y ='price_for_city')\n",
        "sns.lineplot(data = hotel, x ='month', y ='price_for_resort')\n",
        "plt.ylabel('Price')\n",
        "plt.legend(['Resort','city hotel'])\n",
        "plt.show()"
      ],
      "metadata": {
        "id": "B2aS4O1ophqO"
      },
      "execution_count": null,
      "outputs": []
    },
    {
      "cell_type": "markdown",
      "source": [
        "##### 1. Why did you pick the specific chart?"
      ],
      "metadata": {
        "id": "gCFgpxoyphqP"
      }
    },
    {
      "cell_type": "markdown",
      "source": [
        "Answer  a line chart is a type of graph that displays information as a series of data points called 'markers' connected by straight line segments. This visualization is particularly useful for showing trends or changes over a continuous interval or time span.To show the Trend of Hotel price on base on month. we have used bar chart."
      ],
      "metadata": {
        "id": "TVxDimi2phqP"
      }
    },
    {
      "cell_type": "markdown",
      "source": [
        "##### 2. What is/are the insight(s) found from the chart?"
      ],
      "metadata": {
        "id": "OVtJsKN_phqQ"
      }
    },
    {
      "cell_type": "markdown",
      "source": [
        "Answer From the observation, it is found that the dataset contains Country wise hotel booking.The total number of bookings in the dataset is 79069.\n",
        "\n",
        "*   The majority of price of Resort hotel are rise july and there is highest pic in price is in month of August\n",
        "\n",
        "*   the City Hotel price slightly increase in middle of the year.\n",
        "\n",
        "\n",
        "\n",
        "\n",
        "\n"
      ],
      "metadata": {
        "id": "ngGi97qjphqQ"
      }
    },
    {
      "cell_type": "markdown",
      "source": [
        "##### 3. Will the gained insights help creating a positive business impact?\n",
        "Are there any insights that lead to negative growth? Justify with specific reason."
      ],
      "metadata": {
        "id": "lssrdh5qphqQ"
      }
    },
    {
      "cell_type": "markdown",
      "source": [
        "Answer Yes, the gained insights can help to create a positive business impact. By analyzing the booking percentages base on number of repeated boooking , we can identify key parameters that are important for increasing price. This information can be used to make improvements in areas that may lead to increased bookings and overall business growth.\n",
        "\n",
        "There are no insights from the given analysis that indicate negative growth. The focus is on identifying opportunities for improvement."
      ],
      "metadata": {
        "id": "tBpY5ekJphqQ"
      }
    },
    {
      "cell_type": "markdown",
      "source": [
        "#### Chart - 10 - Correlation Heatmap"
      ],
      "metadata": {
        "id": "NC_X3p0fY2L0"
      }
    },
    {
      "cell_type": "code",
      "source": [
        "# Correlation Heatmap visualization code\n",
        "num_df = df[['lead_time','previous_cancellations','previous_bookings_not_canceled','booking_changes','days_in_waiting_list','is_repeated_guest','reserved_room_type','total_count']]\n",
        "\n",
        "# using the correlation\n",
        "corrmat = num_df.corr()\n",
        "f, ax = plt.subplots(figsize = (10,10))\n",
        "sns.heatmap(corrmat,annot = True,fmt = \".2f\",annot_kws ={'size': 10},vmin = -1, vmax = 1, square = True)"
      ],
      "metadata": {
        "id": "xyC9zolEZNRQ"
      },
      "execution_count": null,
      "outputs": []
    },
    {
      "cell_type": "markdown",
      "source": [
        "##### 1. Why did you pick the specific chart?"
      ],
      "metadata": {
        "id": "UV0SzAkaZNRQ"
      }
    },
    {
      "cell_type": "markdown",
      "source": [
        "Answer A correlation heat map is a graphical representation of the correlation matrix, where the correlations between variables in a dataset are displayed as a matrix of colors. It's an excellent tool for quickly identifying relationships and patterns in data.\n",
        "\n",
        "Each cell in the heatmap represents the correlation between two variables. The colors and intensity of the cells typically represent the strength and direction of the correlation:\n",
        "\n",
        "A high positive correlation (strong relationship) is often represented by a brighter or darker color, like dark red.\n",
        "A high negative correlation (strong inverse relationship) might be represented by a different intense color, like dark blue.\n",
        "Little to no correlation is often represented by lighter colors or neutral shades."
      ],
      "metadata": {
        "id": "DVPuT8LYZNRQ"
      }
    },
    {
      "cell_type": "markdown",
      "source": [
        "##### 2. What is/are the insight(s) found from the chart?"
      ],
      "metadata": {
        "id": "YPEH6qLeZNRQ"
      }
    },
    {
      "cell_type": "markdown",
      "source": [
        "AnswerFrom the observation, it is found that the dataset contains Country wise hotel booking.The total number of bookings in the dataset is 79069.\n",
        "\n",
        "*   Lead time and booking changes have a slight positive correlation. This suggests that as the lead time increases, there may be a slightly higher likelihood of changes being made to the booking.\n",
        "\n",
        "*   Lead time is also slightly related to the number of days on the waiting list. This implies that longer lead times may result in a slightly higher chance of being on the waiting list for more days.\n",
        "\n",
        "*   Overall, the correlations observed in the heatmap are relatively weak, with coefficients close to zero. This suggests that the variables in the dataset may not have strong linear relationships with each other."
      ],
      "metadata": {
        "id": "bfSqtnDqZNRR"
      }
    },
    {
      "cell_type": "markdown",
      "source": [
        "#### Chart - 11 - Pair Plot"
      ],
      "metadata": {
        "id": "q29F0dvdveiT"
      }
    },
    {
      "cell_type": "code",
      "source": [
        "# Pair Plot visualization code\n",
        "final_data = sns.pairplot(num_df, hue = 'previous_cancellations', palette = 'Set2')"
      ],
      "metadata": {
        "id": "o58-TEIhveiU"
      },
      "execution_count": null,
      "outputs": []
    },
    {
      "cell_type": "markdown",
      "source": [
        "##### 1. Why did you pick the specific chart?"
      ],
      "metadata": {
        "id": "EXh0U9oCveiU"
      }
    },
    {
      "cell_type": "markdown",
      "source": [
        "Answer  the pairplot chart through various interactions and conversations about data visualization techniques. It's a common tool in exploratory data analysis, and its utility in understanding relationships between variables it allows you to quickly see how all of the variables in a dataset are related to one another."
      ],
      "metadata": {
        "id": "eMmPjTByveiU"
      }
    },
    {
      "cell_type": "markdown",
      "source": [
        "##### 2. What is/are the insight(s) found from the chart?"
      ],
      "metadata": {
        "id": "22aHeOlLveiV"
      }
    },
    {
      "cell_type": "markdown",
      "source": [
        "Answer The pairplot analysis indicates a lack of pronounced linear connections among the dataset's variables. There are no conspicuous trends or robust correlations, signifying a state of relative independence among the variables. This suggests a scenario where the variables exhibit minimal influence or impact on one another."
      ],
      "metadata": {
        "id": "uPQ8RGwHveiV"
      }
    },
    {
      "cell_type": "markdown",
      "source": [
        "## **5. Solution to Business Objective**"
      ],
      "metadata": {
        "id": "JcMwzZxoAimU"
      }
    },
    {
      "cell_type": "markdown",
      "source": [
        "#### What do you suggest the client to achieve Business Objective ?\n",
        "Explain Briefly."
      ],
      "metadata": {
        "id": "8G2x9gOozGDZ"
      }
    },
    {
      "cell_type": "markdown",
      "source": [
        "Answer - from my analysis I will suggest the client to achieve Business Objective are as below\n",
        "\n",
        "Enhanced Marketing Strategies: Develop and implement targeted marketing campaigns to reach potential guests. This includes utilizing digital marketing, social media advertising, search engine optimization (SEO), and partnerships with travel agencies or online booking platforms to increase visibility.\n",
        "\n",
        "Improved Customer Experience: Focus on providing exceptional service and experiences to guests. This can include personalized services, loyalty programs, easy booking processes, and addressing feedback to enhance overall satisfaction.\n",
        "\n",
        "Optimized Pricing Strategies: Utilize dynamic pricing models to adjust room rates based on demand, seasonality, events, and competitor analysis. Offering competitive prices can attract more bookings.\n",
        "\n",
        "Enhanced Online Presence and User Experience: A user-friendly and visually appealing website or app can significantly impact bookings. Ensure ease of navigation, quick loading times, mobile optimization, and clear booking processes.\n",
        "\n",
        "Targeted Segmentation and Customer Profiling: Understand customer preferences through data analysis and segmentation. Tailor offerings and promotions to specific demographics or customer segments to increase engagement and bookings.\n",
        "\n",
        "Strategic Partnerships and Collaborations: Collaborate with airlines, event organizers, travel influencers, and local businesses to create packages or promotions that attract travelers and drive bookings.\n",
        "\n",
        "Investment in Technology and Innovation: Adopt new technologies such as AI-powered chatbots for customer service, virtual tours, or augmented reality experiences to differentiate the hotel and attract more guests.\n",
        "\n",
        "Focus on Reviews and Reputation Management: Encourage positive reviews from satisfied guests and manage negative feedback promptly. A good online reputation can significantly influence potential guests' decisions.\n",
        "\n",
        "Sustainability and Social Responsibility: Highlighting eco-friendly practices or involvement in social causes can attract socially conscious travelers who prioritize responsible businesses."
      ],
      "metadata": {
        "id": "pASKb0qOza21"
      }
    },
    {
      "cell_type": "markdown",
      "source": [
        "# **Conclusion**"
      ],
      "metadata": {
        "id": "gCX9965dhzqZ"
      }
    },
    {
      "cell_type": "markdown",
      "source": [
        "Conclusion is base on EDA Project analysis\n",
        "\n",
        "1.   The city hotel booking is slightly higher then resort hotel, resort hotel should have to more work on user experience and facility.\n",
        "2.   Majority of bookings are comming for Room type A so we have to increase the count of type A rooms and increase the facilty for other type of room also\n",
        "3.   There is positive relation between lead time and cancellations. The hotel should analyze the reasons behind longer lead times leading to cancellations and consider implementing measures to minimize cancellations, such as offering incentives for non-refundable bookings or providing flexible booking options.\n",
        "4. The majority of booking is coming for 2 person and there is less count for 4 or 5 people so hotel management should work on attracting the family.\n",
        "\n",
        "\n",
        "\n",
        "\n"
      ],
      "metadata": {
        "id": "Fjb1IsQkh3yE"
      }
    },
    {
      "cell_type": "markdown",
      "source": [
        "### ***Hurrah! You have successfully completed your EDA Capstone Project !!!***"
      ],
      "metadata": {
        "id": "gIfDvo9L0UH2"
      }
    }
  ]
}